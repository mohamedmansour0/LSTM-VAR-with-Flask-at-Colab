{
  "nbformat": 4,
  "nbformat_minor": 0,
  "metadata": {
    "colab": {
      "name": "ND_DS_LSTM.ipynb",
      "provenance": [],
      "collapsed_sections": [
        "X160teOs7g1y",
        "7OgL-Gqe75u1",
        "dMO4mxT68C5D",
        "dkl7QWLl9bxW"
      ]
    },
    "kernelspec": {
      "name": "python3",
      "display_name": "Python 3"
    },
    "accelerator": "GPU"
  },
  "cells": [
    {
      "cell_type": "markdown",
      "metadata": {
        "id": "X160teOs7g1y"
      },
      "source": [
        "#Download the dataset water-consumption-rates-in-the-new-york-city.csv"
      ]
    },
    {
      "cell_type": "code",
      "metadata": {
        "id": "FR41z7fgWAul"
      },
      "source": [
        "from google.colab import files #This cell is used when running this code on Google Colab Platform\r\n",
        "#uploaded = files.upload()"
      ],
      "execution_count": null,
      "outputs": []
    },
    {
      "cell_type": "markdown",
      "metadata": {
        "id": "7OgL-Gqe75u1"
      },
      "source": [
        "#Import Libraries"
      ]
    },
    {
      "cell_type": "code",
      "metadata": {
        "id": "n4-6B2FqXI7l"
      },
      "source": [
        "import numpy as np\r\n",
        "import pandas as pd\r\n",
        "import math\r\n",
        "import pickle\r\n",
        "from keras.models import Sequential\r\n",
        "from keras.layers import Dense\r\n",
        "from keras.layers import LSTM\r\n",
        "from sklearn.preprocessing import MinMaxScaler\r\n",
        "import matplotlib.pyplot as plt\r\n",
        "%matplotlib inline"
      ],
      "execution_count": null,
      "outputs": []
    },
    {
      "cell_type": "markdown",
      "metadata": {
        "id": "dMO4mxT68C5D"
      },
      "source": [
        "#Plot the time series data"
      ]
    },
    {
      "cell_type": "code",
      "metadata": {
        "colab": {
          "base_uri": "https://localhost:8080/",
          "height": 265
        },
        "id": "bYvnpjYSXKId",
        "outputId": "456794e9-4a70-46c6-e9d6-74e142b4275b"
      },
      "source": [
        "# load  and plot the dataset excluding the first column\r\n",
        "dataframe = pd.read_csv('water-consumption-in-the-new-york-city.csv', usecols=[3], engine='python')\r\n",
        "plt.plot(dataframe)\r\n",
        "plt.show()"
      ],
      "execution_count": null,
      "outputs": [
        {
          "output_type": "display_data",
          "data": {
            "image/png": "[encoded data removed]",
            "text/plain": [
              "<Figure size 432x288 with 1 Axes>"
            ]
          },
          "metadata": {
            "tags": [],
            "needs_background": "light"
          }
        }
      ]
    },
    {
      "cell_type": "markdown",
      "metadata": {
        "id": "dkl7QWLl9bxW"
      },
      "source": [
        "#Build an LSTM network"
      ]
    },
    {
      "cell_type": "code",
      "metadata": {
        "id": "gmW0s-JXX8C5"
      },
      "source": [
        "#A function that converts an array of values into a dataset matrix\r\n",
        "def create_dataset(dataset, look_back=1):\r\n",
        "\tdataX, dataY = [], []\r\n",
        "\tfor i in range(len(dataset)-look_back-1):\r\n",
        "\t\ta = dataset[i:(i+look_back), 0]\r\n",
        "\t\tdataX.append(a)\r\n",
        "\t\tdataY.append(dataset[i + look_back, 0])\r\n",
        "\treturn np.array(dataX), np.array(dataY)"
      ],
      "execution_count": null,
      "outputs": []
    },
    {
      "cell_type": "code",
      "metadata": {
        "id": "llWKE2tT9eBi"
      },
      "source": [
        "#Fix the random number seed to 0 in numpy for reproducibility\r\n",
        "np.random.seed(0)"
      ],
      "execution_count": null,
      "outputs": []
    },
    {
      "cell_type": "code",
      "metadata": {
        "id": "--tGB7zn-WuU"
      },
      "source": [
        "#Convert the integer values in the data to floating point values\r\n",
        "dataset = dataframe.values\r\n",
        "dataset = dataset.astype('float32')"
      ],
      "execution_count": null,
      "outputs": []
    },
    {
      "cell_type": "code",
      "metadata": {
        "id": "0TQdnLFZ9ois"
      },
      "source": [
        "#Normalize the data to range (0 - 1) using MinMaxScaler\r\n",
        "Scaler = MinMaxScaler()\r\n",
        "dataset = Scaler.fit_transform(dataset)"
      ],
      "execution_count": null,
      "outputs": []
    },
    {
      "cell_type": "code",
      "metadata": {
        "id": "PExKJyZ4XUzL"
      },
      "source": [
        "#Split the first 67% of the data as training data\r\n",
        "train_size = int(len(dataset) * 0.67)\r\n",
        "test_size = len(dataset) - train_size\r\n",
        "#And split the remaining 33% as testing data\r\n",
        "train, test = dataset[0:train_size,:], dataset[train_size:len(dataset),:]"
      ],
      "execution_count": null,
      "outputs": []
    },
    {
      "cell_type": "code",
      "metadata": {
        "id": "cw6MZPU3Y-NS"
      },
      "source": [
        "#Obtain the two-column input-output dataset\r\n",
        "look_back = 4\r\n",
        "trainX, trainY = create_dataset(train, look_back)\r\n",
        "testX, testY = create_dataset(test, look_back)"
      ],
      "execution_count": null,
      "outputs": []
    },
    {
      "cell_type": "code",
      "metadata": {
        "colab": {
          "base_uri": "https://localhost:8080/"
        },
        "id": "nc7BUabRZh2c",
        "outputId": "24f20ec4-c9f3-43db-fafa-39c769429dcd"
      },
      "source": [
        "model = Sequential()\r\n",
        "\r\n",
        "#Build the LSTM network with a hidden layer of 4 neurons\r\n",
        "model.add(LSTM(4, input_dim=look_back, recurrent_activation='sigmoid', return_sequences=True))\r\n",
        "\r\n",
        "#And an output layer with a single neuron\r\n",
        "model.add(Dense(1))\r\n",
        "\r\n",
        "model.compile(loss='mean_squared_error', optimizer='adam')\r\n",
        "\r\n",
        "#Reshape the input data to be in the [samples, time steps, features] format\r\n",
        "trainX = np.reshape(trainX, (trainX.shape[0], 1, trainX.shape[1]))\r\n",
        "testX = np.reshape(testX, (testX.shape[0], 1, testX.shape[1]))\r\n",
        "\r\n",
        "model.fit(trainX, trainY, epochs=200, batch_size=1, verbose=2)"
      ],
      "execution_count": null,
      "outputs": [
        {
          "output_type": "stream",
          "text": [
            "Epoch 1/200\n",
            "22/22 - 3s - loss: 0.3261\n",
            "Epoch 2/200\n",
            "22/22 - 0s - loss: 0.2430\n",
            "Epoch 3/200\n",
            "22/22 - 0s - loss: 0.1721\n",
            "Epoch 4/200\n",
            "22/22 - 0s - loss: 0.1203\n",
            "Epoch 5/200\n",
            "22/22 - 0s - loss: 0.0794\n",
            "Epoch 6/200\n",
            "22/22 - 0s - loss: 0.0499\n",
            "Epoch 7/200\n",
            "22/22 - 0s - loss: 0.0345\n",
            "Epoch 8/200\n",
            "22/22 - 0s - loss: 0.0254\n",
            "Epoch 9/200\n",
            "22/22 - 0s - loss: 0.0211\n",
            "Epoch 10/200\n",
            "22/22 - 0s - loss: 0.0201\n",
            "Epoch 11/200\n",
            "22/22 - 0s - loss: 0.0191\n",
            "Epoch 12/200\n",
            "22/22 - 0s - loss: 0.0187\n",
            "Epoch 13/200\n",
            "22/22 - 0s - loss: 0.0185\n",
            "Epoch 14/200\n",
            "22/22 - 0s - loss: 0.0180\n",
            "Epoch 15/200\n",
            "22/22 - 0s - loss: 0.0178\n",
            "Epoch 16/200\n",
            "22/22 - 0s - loss: 0.0175\n",
            "Epoch 17/200\n",
            "22/22 - 0s - loss: 0.0173\n",
            "Epoch 18/200\n",
            "22/22 - 0s - loss: 0.0168\n",
            "Epoch 19/200\n",
            "22/22 - 0s - loss: 0.0166\n",
            "Epoch 20/200\n",
            "22/22 - 0s - loss: 0.0163\n",
            "Epoch 21/200\n",
            "22/22 - 0s - loss: 0.0161\n",
            "Epoch 22/200\n",
            "22/22 - 0s - loss: 0.0160\n",
            "Epoch 23/200\n",
            "22/22 - 0s - loss: 0.0154\n",
            "Epoch 24/200\n",
            "22/22 - 0s - loss: 0.0152\n",
            "Epoch 25/200\n",
            "22/22 - 0s - loss: 0.0151\n",
            "Epoch 26/200\n",
            "22/22 - 0s - loss: 0.0146\n",
            "Epoch 27/200\n",
            "22/22 - 0s - loss: 0.0143\n",
            "Epoch 28/200\n",
            "22/22 - 0s - loss: 0.0141\n",
            "Epoch 29/200\n",
            "22/22 - 0s - loss: 0.0139\n",
            "Epoch 30/200\n",
            "22/22 - 0s - loss: 0.0141\n",
            "Epoch 31/200\n",
            "22/22 - 0s - loss: 0.0135\n",
            "Epoch 32/200\n",
            "22/22 - 0s - loss: 0.0134\n",
            "Epoch 33/200\n",
            "22/22 - 0s - loss: 0.0131\n",
            "Epoch 34/200\n",
            "22/22 - 0s - loss: 0.0127\n",
            "Epoch 35/200\n",
            "22/22 - 0s - loss: 0.0126\n",
            "Epoch 36/200\n",
            "22/22 - 0s - loss: 0.0124\n",
            "Epoch 37/200\n",
            "22/22 - 0s - loss: 0.0122\n",
            "Epoch 38/200\n",
            "22/22 - 0s - loss: 0.0120\n",
            "Epoch 39/200\n",
            "22/22 - 0s - loss: 0.0118\n",
            "Epoch 40/200\n",
            "22/22 - 0s - loss: 0.0115\n",
            "Epoch 41/200\n",
            "22/22 - 0s - loss: 0.0114\n",
            "Epoch 42/200\n",
            "22/22 - 0s - loss: 0.0115\n",
            "Epoch 43/200\n",
            "22/22 - 0s - loss: 0.0110\n",
            "Epoch 44/200\n",
            "22/22 - 0s - loss: 0.0109\n",
            "Epoch 45/200\n",
            "22/22 - 0s - loss: 0.0111\n",
            "Epoch 46/200\n",
            "22/22 - 0s - loss: 0.0106\n",
            "Epoch 47/200\n",
            "22/22 - 0s - loss: 0.0106\n",
            "Epoch 48/200\n",
            "22/22 - 0s - loss: 0.0104\n",
            "Epoch 49/200\n",
            "22/22 - 0s - loss: 0.0103\n",
            "Epoch 50/200\n",
            "22/22 - 0s - loss: 0.0101\n",
            "Epoch 51/200\n",
            "22/22 - 0s - loss: 0.0100\n",
            "Epoch 52/200\n",
            "22/22 - 0s - loss: 0.0099\n",
            "Epoch 53/200\n",
            "22/22 - 0s - loss: 0.0097\n",
            "Epoch 54/200\n",
            "22/22 - 0s - loss: 0.0096\n",
            "Epoch 55/200\n",
            "22/22 - 0s - loss: 0.0097\n",
            "Epoch 56/200\n",
            "22/22 - 0s - loss: 0.0099\n",
            "Epoch 57/200\n",
            "22/22 - 0s - loss: 0.0094\n",
            "Epoch 58/200\n",
            "22/22 - 0s - loss: 0.0094\n",
            "Epoch 59/200\n",
            "22/22 - 0s - loss: 0.0091\n",
            "Epoch 60/200\n",
            "22/22 - 0s - loss: 0.0090\n",
            "Epoch 61/200\n",
            "22/22 - 0s - loss: 0.0090\n",
            "Epoch 62/200\n",
            "22/22 - 0s - loss: 0.0089\n",
            "Epoch 63/200\n",
            "22/22 - 0s - loss: 0.0088\n",
            "Epoch 64/200\n",
            "22/22 - 0s - loss: 0.0089\n",
            "Epoch 65/200\n",
            "22/22 - 0s - loss: 0.0086\n",
            "Epoch 66/200\n",
            "22/22 - 0s - loss: 0.0086\n",
            "Epoch 67/200\n",
            "22/22 - 0s - loss: 0.0088\n",
            "Epoch 68/200\n",
            "22/22 - 0s - loss: 0.0086\n",
            "Epoch 69/200\n",
            "22/22 - 0s - loss: 0.0087\n",
            "Epoch 70/200\n",
            "22/22 - 0s - loss: 0.0084\n",
            "Epoch 71/200\n",
            "22/22 - 0s - loss: 0.0086\n",
            "Epoch 72/200\n",
            "22/22 - 0s - loss: 0.0085\n",
            "Epoch 73/200\n",
            "22/22 - 0s - loss: 0.0082\n",
            "Epoch 74/200\n",
            "22/22 - 0s - loss: 0.0088\n",
            "Epoch 75/200\n",
            "22/22 - 0s - loss: 0.0081\n",
            "Epoch 76/200\n",
            "22/22 - 0s - loss: 0.0081\n",
            "Epoch 77/200\n",
            "22/22 - 0s - loss: 0.0080\n",
            "Epoch 78/200\n",
            "22/22 - 0s - loss: 0.0080\n",
            "Epoch 79/200\n",
            "22/22 - 0s - loss: 0.0081\n",
            "Epoch 80/200\n",
            "22/22 - 0s - loss: 0.0082\n",
            "Epoch 81/200\n",
            "22/22 - 0s - loss: 0.0079\n",
            "Epoch 82/200\n",
            "22/22 - 0s - loss: 0.0081\n",
            "Epoch 83/200\n",
            "22/22 - 0s - loss: 0.0079\n",
            "Epoch 84/200\n",
            "22/22 - 0s - loss: 0.0084\n",
            "Epoch 85/200\n",
            "22/22 - 0s - loss: 0.0077\n",
            "Epoch 86/200\n",
            "22/22 - 0s - loss: 0.0077\n",
            "Epoch 87/200\n",
            "22/22 - 0s - loss: 0.0077\n",
            "Epoch 88/200\n",
            "22/22 - 0s - loss: 0.0078\n",
            "Epoch 89/200\n",
            "22/22 - 0s - loss: 0.0075\n",
            "Epoch 90/200\n",
            "22/22 - 0s - loss: 0.0077\n",
            "Epoch 91/200\n",
            "22/22 - 0s - loss: 0.0079\n",
            "Epoch 92/200\n",
            "22/22 - 0s - loss: 0.0075\n",
            "Epoch 93/200\n",
            "22/22 - 0s - loss: 0.0076\n",
            "Epoch 94/200\n",
            "22/22 - 0s - loss: 0.0081\n",
            "Epoch 95/200\n",
            "22/22 - 0s - loss: 0.0078\n",
            "Epoch 96/200\n",
            "22/22 - 0s - loss: 0.0076\n",
            "Epoch 97/200\n",
            "22/22 - 0s - loss: 0.0073\n",
            "Epoch 98/200\n",
            "22/22 - 0s - loss: 0.0079\n",
            "Epoch 99/200\n",
            "22/22 - 0s - loss: 0.0077\n",
            "Epoch 100/200\n",
            "22/22 - 0s - loss: 0.0074\n",
            "Epoch 101/200\n",
            "22/22 - 0s - loss: 0.0072\n",
            "Epoch 102/200\n",
            "22/22 - 0s - loss: 0.0073\n",
            "Epoch 103/200\n",
            "22/22 - 0s - loss: 0.0071\n",
            "Epoch 104/200\n",
            "22/22 - 0s - loss: 0.0077\n",
            "Epoch 105/200\n",
            "22/22 - 0s - loss: 0.0075\n",
            "Epoch 106/200\n",
            "22/22 - 0s - loss: 0.0075\n",
            "Epoch 107/200\n",
            "22/22 - 0s - loss: 0.0073\n",
            "Epoch 108/200\n",
            "22/22 - 0s - loss: 0.0070\n",
            "Epoch 109/200\n",
            "22/22 - 0s - loss: 0.0070\n",
            "Epoch 110/200\n",
            "22/22 - 0s - loss: 0.0071\n",
            "Epoch 111/200\n",
            "22/22 - 0s - loss: 0.0074\n",
            "Epoch 112/200\n",
            "22/22 - 0s - loss: 0.0068\n",
            "Epoch 113/200\n",
            "22/22 - 0s - loss: 0.0074\n",
            "Epoch 114/200\n",
            "22/22 - 0s - loss: 0.0071\n",
            "Epoch 115/200\n",
            "22/22 - 0s - loss: 0.0071\n",
            "Epoch 116/200\n",
            "22/22 - 0s - loss: 0.0069\n",
            "Epoch 117/200\n",
            "22/22 - 0s - loss: 0.0070\n",
            "Epoch 118/200\n",
            "22/22 - 0s - loss: 0.0070\n",
            "Epoch 119/200\n",
            "22/22 - 0s - loss: 0.0068\n",
            "Epoch 120/200\n",
            "22/22 - 0s - loss: 0.0068\n",
            "Epoch 121/200\n",
            "22/22 - 0s - loss: 0.0070\n",
            "Epoch 122/200\n",
            "22/22 - 0s - loss: 0.0068\n",
            "Epoch 123/200\n",
            "22/22 - 0s - loss: 0.0069\n",
            "Epoch 124/200\n",
            "22/22 - 0s - loss: 0.0068\n",
            "Epoch 125/200\n",
            "22/22 - 0s - loss: 0.0068\n",
            "Epoch 126/200\n",
            "22/22 - 0s - loss: 0.0067\n",
            "Epoch 127/200\n",
            "22/22 - 0s - loss: 0.0068\n",
            "Epoch 128/200\n",
            "22/22 - 0s - loss: 0.0068\n",
            "Epoch 129/200\n",
            "22/22 - 0s - loss: 0.0068\n",
            "Epoch 130/200\n",
            "22/22 - 0s - loss: 0.0068\n",
            "Epoch 131/200\n",
            "22/22 - 0s - loss: 0.0066\n",
            "Epoch 132/200\n",
            "22/22 - 0s - loss: 0.0066\n",
            "Epoch 133/200\n",
            "22/22 - 0s - loss: 0.0066\n",
            "Epoch 134/200\n",
            "22/22 - 0s - loss: 0.0067\n",
            "Epoch 135/200\n",
            "22/22 - 0s - loss: 0.0067\n",
            "Epoch 136/200\n",
            "22/22 - 0s - loss: 0.0065\n",
            "Epoch 137/200\n",
            "22/22 - 0s - loss: 0.0069\n",
            "Epoch 138/200\n",
            "22/22 - 0s - loss: 0.0065\n",
            "Epoch 139/200\n",
            "22/22 - 0s - loss: 0.0066\n",
            "Epoch 140/200\n",
            "22/22 - 0s - loss: 0.0065\n",
            "Epoch 141/200\n",
            "22/22 - 0s - loss: 0.0066\n",
            "Epoch 142/200\n",
            "22/22 - 0s - loss: 0.0068\n",
            "Epoch 143/200\n",
            "22/22 - 0s - loss: 0.0065\n",
            "Epoch 144/200\n",
            "22/22 - 0s - loss: 0.0065\n",
            "Epoch 145/200\n",
            "22/22 - 0s - loss: 0.0065\n",
            "Epoch 146/200\n",
            "22/22 - 0s - loss: 0.0067\n",
            "Epoch 147/200\n",
            "22/22 - 0s - loss: 0.0066\n",
            "Epoch 148/200\n",
            "22/22 - 0s - loss: 0.0066\n",
            "Epoch 149/200\n",
            "22/22 - 0s - loss: 0.0066\n",
            "Epoch 150/200\n",
            "22/22 - 0s - loss: 0.0065\n",
            "Epoch 151/200\n",
            "22/22 - 0s - loss: 0.0066\n",
            "Epoch 152/200\n",
            "22/22 - 0s - loss: 0.0063\n",
            "Epoch 153/200\n",
            "22/22 - 0s - loss: 0.0067\n",
            "Epoch 154/200\n",
            "22/22 - 0s - loss: 0.0062\n",
            "Epoch 155/200\n",
            "22/22 - 0s - loss: 0.0063\n",
            "Epoch 156/200\n",
            "22/22 - 0s - loss: 0.0063\n",
            "Epoch 157/200\n",
            "22/22 - 0s - loss: 0.0063\n",
            "Epoch 158/200\n",
            "22/22 - 0s - loss: 0.0062\n",
            "Epoch 159/200\n",
            "22/22 - 0s - loss: 0.0064\n",
            "Epoch 160/200\n",
            "22/22 - 0s - loss: 0.0064\n",
            "Epoch 161/200\n",
            "22/22 - 0s - loss: 0.0064\n",
            "Epoch 162/200\n",
            "22/22 - 0s - loss: 0.0063\n",
            "Epoch 163/200\n",
            "22/22 - 0s - loss: 0.0062\n",
            "Epoch 164/200\n",
            "22/22 - 0s - loss: 0.0063\n",
            "Epoch 165/200\n",
            "22/22 - 0s - loss: 0.0062\n",
            "Epoch 166/200\n",
            "22/22 - 0s - loss: 0.0063\n",
            "Epoch 167/200\n",
            "22/22 - 0s - loss: 0.0062\n",
            "Epoch 168/200\n",
            "22/22 - 0s - loss: 0.0062\n",
            "Epoch 169/200\n",
            "22/22 - 0s - loss: 0.0063\n",
            "Epoch 170/200\n",
            "22/22 - 0s - loss: 0.0064\n",
            "Epoch 171/200\n",
            "22/22 - 0s - loss: 0.0063\n",
            "Epoch 172/200\n",
            "22/22 - 0s - loss: 0.0061\n",
            "Epoch 173/200\n",
            "22/22 - 0s - loss: 0.0062\n",
            "Epoch 174/200\n",
            "22/22 - 0s - loss: 0.0060\n",
            "Epoch 175/200\n",
            "22/22 - 0s - loss: 0.0064\n",
            "Epoch 176/200\n",
            "22/22 - 0s - loss: 0.0063\n",
            "Epoch 177/200\n",
            "22/22 - 0s - loss: 0.0061\n",
            "Epoch 178/200\n",
            "22/22 - 0s - loss: 0.0062\n",
            "Epoch 179/200\n",
            "22/22 - 0s - loss: 0.0060\n",
            "Epoch 180/200\n",
            "22/22 - 0s - loss: 0.0060\n",
            "Epoch 181/200\n",
            "22/22 - 0s - loss: 0.0060\n",
            "Epoch 182/200\n",
            "22/22 - 0s - loss: 0.0063\n",
            "Epoch 183/200\n",
            "22/22 - 0s - loss: 0.0062\n",
            "Epoch 184/200\n",
            "22/22 - 0s - loss: 0.0064\n",
            "Epoch 185/200\n",
            "22/22 - 0s - loss: 0.0060\n",
            "Epoch 186/200\n",
            "22/22 - 0s - loss: 0.0065\n",
            "Epoch 187/200\n",
            "22/22 - 0s - loss: 0.0059\n",
            "Epoch 188/200\n",
            "22/22 - 0s - loss: 0.0060\n",
            "Epoch 189/200\n",
            "22/22 - 0s - loss: 0.0060\n",
            "Epoch 190/200\n",
            "22/22 - 0s - loss: 0.0063\n",
            "Epoch 191/200\n",
            "22/22 - 0s - loss: 0.0065\n",
            "Epoch 192/200\n",
            "22/22 - 0s - loss: 0.0063\n",
            "Epoch 193/200\n",
            "22/22 - 0s - loss: 0.0059\n",
            "Epoch 194/200\n",
            "22/22 - 0s - loss: 0.0059\n",
            "Epoch 195/200\n",
            "22/22 - 0s - loss: 0.0058\n",
            "Epoch 196/200\n",
            "22/22 - 0s - loss: 0.0059\n",
            "Epoch 197/200\n",
            "22/22 - 0s - loss: 0.0058\n",
            "Epoch 198/200\n",
            "22/22 - 0s - loss: 0.0059\n",
            "Epoch 199/200\n",
            "22/22 - 0s - loss: 0.0059\n",
            "Epoch 200/200\n",
            "22/22 - 0s - loss: 0.0058\n"
          ],
          "name": "stdout"
        },
        {
          "output_type": "execute_result",
          "data": {
            "text/plain": [
              "<tensorflow.python.keras.callbacks.History at 0x7f87aa01a240>"
            ]
          },
          "metadata": {
            "tags": []
          },
          "execution_count": 10
        }
      ]
    },
    {
      "cell_type": "code",
      "metadata": {
        "id": "w_EJkZegQrnb"
      },
      "source": [
        "#pickle.dump(model, open('model_LSTM.pkl', 'wb'))\r\n",
        "#with open('pickled_data_file.pkl', 'wb') as fid:\r\n",
        "#    pickle.dump(model, fid)"
      ],
      "execution_count": null,
      "outputs": []
    },
    {
      "cell_type": "code",
      "metadata": {
        "colab": {
          "base_uri": "https://localhost:8080/"
        },
        "id": "A29mPoFnaCaz",
        "outputId": "cc245210-9b4d-41f4-e0a5-f0539d79e20f"
      },
      "source": [
        "#Calculate and print the root-mean-squared-error (RMSE) in training and test data\r\n",
        "trainScore = model.evaluate(trainX, trainY, verbose=0)\r\n",
        "print('Train Score: %.2f MSE (%.2f RMSE)' % (trainScore, math.sqrt(trainScore)))\r\n",
        "testScore = model.evaluate(testX, testY, verbose=0)\r\n",
        "print('Test Score: %.2f MSE (%.2f RMSE)' % (testScore, math.sqrt(testScore)))"
      ],
      "execution_count": null,
      "outputs": [
        {
          "output_type": "stream",
          "text": [
            "Train Score: 0.01 MSE (0.08 RMSE)\n",
            "Test Score: 0.00 MSE (0.05 RMSE)\n"
          ],
          "name": "stdout"
        }
      ]
    },
    {
      "cell_type": "code",
      "metadata": {
        "id": "hAe4M5q9psY5"
      },
      "source": [
        "#Predict the next month's number of passengers\r\n",
        "trainPredict = model.predict(trainX)\r\n",
        "testPredict = model.predict(testX)"
      ],
      "execution_count": null,
      "outputs": []
    },
    {
      "cell_type": "code",
      "metadata": {
        "colab": {
          "base_uri": "https://localhost:8080/",
          "height": 265
        },
        "id": "D-Hy6HIcaVBU",
        "outputId": "9f5da375-57e7-40e0-ea49-ae2164227b68"
      },
      "source": [
        "#Reshape the input data\r\n",
        "trainPredict = np.reshape(trainPredict, (trainPredict.shape[0], trainPredict.shape[1]))\r\n",
        "testPredict = np.reshape(testPredict, (testPredict.shape[0], testPredict.shape[1]))\r\n",
        "\r\n",
        "# shift train predictions for plotting\r\n",
        "trainPredictPlot = np.empty_like(dataset)\r\n",
        "trainPredictPlot[:, :] = np.nan\r\n",
        "trainPredictPlot[look_back:len(trainPredict)+look_back, :] = trainPredict\r\n",
        "\r\n",
        "# shift test predictions for plotting\r\n",
        "testPredictPlot = np.empty_like(dataset)\r\n",
        "testPredictPlot[:, :] = np.nan\r\n",
        "testPredictPlot[len(trainPredict)+(look_back*2)+1:len(dataset)-1, :] = testPredict\r\n",
        "\r\n",
        "# plot baseline and predictions after inverting their values\r\n",
        "plt.plot(Scaler.inverse_transform(dataset))\r\n",
        "plt.plot(Scaler.inverse_transform(trainPredictPlot))\r\n",
        "plt.plot(Scaler.inverse_transform(testPredictPlot))\r\n",
        "\r\n",
        "#Align and plot the actual and predicted values for the entire dataset\r\n",
        "plt.show()"
      ],
      "execution_count": null,
      "outputs": [
        {
          "output_type": "display_data",
          "data": {
            "image/png": "[encoded data removed]",
            "text/plain": [
              "<Figure size 432x288 with 1 Axes>"
            ]
          },
          "metadata": {
            "tags": [],
            "needs_background": "light"
          }
        }
      ]
    },
    {
      "cell_type": "markdown",
      "metadata": {
        "id": "KNll0jv4Mvi1"
      },
      "source": [
        "#Build VAR model"
      ]
    },
    {
      "cell_type": "code",
      "metadata": {
        "colab": {
          "base_uri": "https://localhost:8080/",
          "height": 204
        },
        "id": "y061nWVmBe9Z",
        "outputId": "8d0b385b-d515-4b60-f38d-ff569079e1c4"
      },
      "source": [
        "df = pd.read_csv('water-consumption-in-the-new-york-city.csv')\r\n",
        "df.head()"
      ],
      "execution_count": null,
      "outputs": [
        {
          "output_type": "execute_result",
          "data": {
            "text/html": [
              "<div>\n",
              "<style scoped>\n",
              "    .dataframe tbody tr th:only-of-type {\n",
              "        vertical-align: middle;\n",
              "    }\n",
              "\n",
              "    .dataframe tbody tr th {\n",
              "        vertical-align: top;\n",
              "    }\n",
              "\n",
              "    .dataframe thead th {\n",
              "        text-align: right;\n",
              "    }\n",
              "</style>\n",
              "<table border=\"1\" class=\"dataframe\">\n",
              "  <thead>\n",
              "    <tr style=\"text-align: right;\">\n",
              "      <th></th>\n",
              "      <th>Year</th>\n",
              "      <th>New York City Population</th>\n",
              "      <th>NYC Consumption(Million gallons per day)</th>\n",
              "      <th>Per Capita(Gallons per person per day)</th>\n",
              "    </tr>\n",
              "  </thead>\n",
              "  <tbody>\n",
              "    <tr>\n",
              "      <th>0</th>\n",
              "      <td>1979</td>\n",
              "      <td>7102100.0</td>\n",
              "      <td>1512.0</td>\n",
              "      <td>213</td>\n",
              "    </tr>\n",
              "    <tr>\n",
              "      <th>1</th>\n",
              "      <td>1980</td>\n",
              "      <td>7071639.0</td>\n",
              "      <td>1506.0</td>\n",
              "      <td>213</td>\n",
              "    </tr>\n",
              "    <tr>\n",
              "      <th>2</th>\n",
              "      <td>1981</td>\n",
              "      <td>7089241.0</td>\n",
              "      <td>1309.0</td>\n",
              "      <td>185</td>\n",
              "    </tr>\n",
              "    <tr>\n",
              "      <th>3</th>\n",
              "      <td>1982</td>\n",
              "      <td>7109105.0</td>\n",
              "      <td>1382.0</td>\n",
              "      <td>194</td>\n",
              "    </tr>\n",
              "    <tr>\n",
              "      <th>4</th>\n",
              "      <td>1983</td>\n",
              "      <td>7181224.0</td>\n",
              "      <td>1424.0</td>\n",
              "      <td>198</td>\n",
              "    </tr>\n",
              "  </tbody>\n",
              "</table>\n",
              "</div>"
            ],
            "text/plain": [
              "   Year  ...  Per Capita(Gallons per person per day)\n",
              "0  1979  ...                                     213\n",
              "1  1980  ...                                     213\n",
              "2  1981  ...                                     185\n",
              "3  1982  ...                                     194\n",
              "4  1983  ...                                     198\n",
              "\n",
              "[5 rows x 4 columns]"
            ]
          },
          "metadata": {
            "tags": []
          },
          "execution_count": 17
        }
      ]
    },
    {
      "cell_type": "code",
      "metadata": {
        "colab": {
          "base_uri": "https://localhost:8080/"
        },
        "id": "_IgqkA-WDCqH",
        "outputId": "36504cbf-c1f5-4b33-a8db-55e55ad535dd"
      },
      "source": [
        "df.dtypes"
      ],
      "execution_count": null,
      "outputs": [
        {
          "output_type": "execute_result",
          "data": {
            "text/plain": [
              "Year                                          int64\n",
              "New York City Population                    float64\n",
              "NYC Consumption(Million gallons per day)    float64\n",
              "Per Capita(Gallons per person per day)        int64\n",
              "dtype: object"
            ]
          },
          "metadata": {
            "tags": []
          },
          "execution_count": 18
        }
      ]
    },
    {
      "cell_type": "code",
      "metadata": {
        "colab": {
          "base_uri": "https://localhost:8080/"
        },
        "id": "4WvH5AWwGChB",
        "outputId": "a6f11dc1-8e90-4abb-96df-9399bc339c86"
      },
      "source": [
        "df['Year'] = pd.to_datetime(df.Year , format = '%Y')\r\n",
        "df.dtypes"
      ],
      "execution_count": null,
      "outputs": [
        {
          "output_type": "execute_result",
          "data": {
            "text/plain": [
              "Year                                        datetime64[ns]\n",
              "New York City Population                           float64\n",
              "NYC Consumption(Million gallons per day)           float64\n",
              "Per Capita(Gallons per person per day)               int64\n",
              "dtype: object"
            ]
          },
          "metadata": {
            "tags": []
          },
          "execution_count": 19
        }
      ]
    },
    {
      "cell_type": "code",
      "metadata": {
        "colab": {
          "base_uri": "https://localhost:8080/"
        },
        "id": "3z-kxtaCLH04",
        "outputId": "c5628428-5cd3-4081-b782-78d9f770d200"
      },
      "source": [
        "data = df.drop(['Year'], axis=1)\r\n",
        "data.index = df.Year\r\n",
        "data.dtypes"
      ],
      "execution_count": null,
      "outputs": [
        {
          "output_type": "execute_result",
          "data": {
            "text/plain": [
              "New York City Population                    float64\n",
              "NYC Consumption(Million gallons per day)    float64\n",
              "Per Capita(Gallons per person per day)        int64\n",
              "dtype: object"
            ]
          },
          "metadata": {
            "tags": []
          },
          "execution_count": 20
        }
      ]
    },
    {
      "cell_type": "code",
      "metadata": {
        "colab": {
          "base_uri": "https://localhost:8080/"
        },
        "id": "HIkobKDyPnD4",
        "outputId": "a99f6e0b-d2c1-495f-cc21-bcc858411b1d"
      },
      "source": [
        "from statsmodels.tsa.vector_ar.vecm import coint_johansen\r\n",
        "coint_johansen(data,-1,1).eig"
      ],
      "execution_count": null,
      "outputs": [
        {
          "output_type": "stream",
          "text": [
            "/usr/local/lib/python3.6/dist-packages/statsmodels/tools/_testing.py:19: FutureWarning: pandas.util.testing is deprecated. Use the functions in the public API at pandas.testing instead.\n",
            "  import pandas.util.testing as tm\n"
          ],
          "name": "stderr"
        },
        {
          "output_type": "execute_result",
          "data": {
            "text/plain": [
              "array([0.425835  , 0.20677721, 0.00382673])"
            ]
          },
          "metadata": {
            "tags": []
          },
          "execution_count": 21
        }
      ]
    },
    {
      "cell_type": "code",
      "metadata": {
        "id": "dxXBRBGPD8OB"
      },
      "source": [
        "#creating the train and validation set\r\n",
        "train = data[:int(0.8*(len(data)))]\r\n",
        "valid = data[int(0.8*(len(data))):]"
      ],
      "execution_count": null,
      "outputs": []
    },
    {
      "cell_type": "code",
      "metadata": {
        "colab": {
          "base_uri": "https://localhost:8080/"
        },
        "id": "3jDInrSbSXg_",
        "outputId": "9734b7e9-5b4d-4ca6-90e8-8efeadeee9ea"
      },
      "source": [
        "#creating the train and validation set\r\n",
        "train = data[:int(0.8*(len(data)))]\r\n",
        "valid = data[int(0.8*(len(data))):]\r\n",
        "\r\n",
        "#fit the model\r\n",
        "from statsmodels.tsa.vector_ar.var_model import VAR\r\n",
        "\r\n",
        "model = VAR(endog=train)\r\n",
        "model_fit = model.fit()\r\n",
        "\r\n",
        "# make prediction on validation\r\n",
        "prediction = model_fit.forecast(model_fit.y, steps=len(valid))"
      ],
      "execution_count": null,
      "outputs": [
        {
          "output_type": "stream",
          "text": [
            "/usr/local/lib/python3.6/dist-packages/statsmodels/tsa/base/tsa_model.py:165: ValueWarning: No frequency information was provided, so inferred frequency AS-JAN will be used.\n",
            "  % freq, ValueWarning)\n",
            "/usr/local/lib/python3.6/dist-packages/statsmodels/base/wrapper.py:35: FutureWarning: y is a deprecated alias for endog, will be removed in version 0.11.0\n",
            "  obj = getattr(results, attr)\n"
          ],
          "name": "stderr"
        }
      ]
    },
    {
      "cell_type": "code",
      "metadata": {
        "colab": {
          "base_uri": "https://localhost:8080/"
        },
        "id": "_Tbv24IjS8zo",
        "outputId": "b163e6cf-0d27-4e63-ad15-f6ddd195fb15"
      },
      "source": [
        "#converting predictions to dataframe\r\n",
        "pred = pd.DataFrame(index=range(0,len(prediction)),columns=[data.columns])\r\n",
        "\r\n",
        "for j in range(0,len(data.columns)):\r\n",
        "    for i in range(0, len(prediction)):\r\n",
        "       pred.iloc[i][j] = prediction[i][j]\r\n",
        "\r\n",
        "from sklearn.metrics import mean_squared_error\r\n",
        "cols = data.columns\r\n",
        "#check rmse\r\n",
        "print('rmse value for', cols[1], 'is : ', np.sqrt(mean_squared_error(pred[[cols[1]]], valid[[cols[1]]])))"
      ],
      "execution_count": null,
      "outputs": [
        {
          "output_type": "stream",
          "text": [
            "rmse value for NYC Consumption(Million gallons per day) is :  11.685313827922855\n"
          ],
          "name": "stdout"
        }
      ]
    },
    {
      "cell_type": "code",
      "metadata": {
        "id": "cAGnDlfqahS3"
      },
      "source": [
        "actual_consumption = valid['NYC Consumption(Million gallons per day)']\r\n",
        "predicted_consumption = pred[['NYC Consumption(Million gallons per day)']]"
      ],
      "execution_count": null,
      "outputs": []
    },
    {
      "cell_type": "code",
      "metadata": {
        "id": "EicjjoECbqgX"
      },
      "source": [
        "Actual_consumption = actual_consumption.to_frame()"
      ],
      "execution_count": null,
      "outputs": []
    },
    {
      "cell_type": "code",
      "metadata": {
        "colab": {
          "base_uri": "https://localhost:8080/",
          "height": 279
        },
        "id": "Y9Cv8hIpfpbk",
        "outputId": "4d400b9b-7b91-4d00-cdc5-e37b7e22b721"
      },
      "source": [
        "ax = Actual_consumption.plot()\r\n",
        "\r\n",
        "#predicted_consumption.plot(ax=ax)"
      ],
      "execution_count": null,
      "outputs": [
        {
          "output_type": "display_data",
          "data": {
            "image/png": "[encoded data removed]",
            "text/plain": [
              "<Figure size 432x288 with 1 Axes>"
            ]
          },
          "metadata": {
            "tags": [],
            "needs_background": "light"
          }
        }
      ]
    },
    {
      "cell_type": "code",
      "metadata": {
        "colab": {
          "base_uri": "https://localhost:8080/",
          "height": 265
        },
        "id": "OVxBTRUcgJ-o",
        "outputId": "7ac115cb-48b7-4144-8a7a-2c7f32db2ad5"
      },
      "source": [
        "ay = predicted_consumption.plot()"
      ],
      "execution_count": null,
      "outputs": [
        {
          "output_type": "display_data",
          "data": {
            "image/png": "[encoded data removed]",
            "text/plain": [
              "<Figure size 432x288 with 1 Axes>"
            ]
          },
          "metadata": {
            "tags": [],
            "needs_background": "light"
          }
        }
      ]
    },
    {
      "cell_type": "code",
      "metadata": {
        "colab": {
          "base_uri": "https://localhost:8080/"
        },
        "id": "P-HYIu27UuaB",
        "outputId": "b683fb8b-144b-4e5c-b6b5-43e83dc51e75"
      },
      "source": [
        "#make final predictions\r\n",
        "model = VAR(endog=data)\r\n",
        "model_fit = model.fit()\r\n",
        "yhat = model_fit.forecast(model_fit.y, steps=3)"
      ],
      "execution_count": null,
      "outputs": [
        {
          "output_type": "stream",
          "text": [
            "/usr/local/lib/python3.6/dist-packages/statsmodels/tsa/base/tsa_model.py:165: ValueWarning: No frequency information was provided, so inferred frequency AS-JAN will be used.\n",
            "  % freq, ValueWarning)\n",
            "/usr/local/lib/python3.6/dist-packages/statsmodels/base/wrapper.py:35: FutureWarning: y is a deprecated alias for endog, will be removed in version 0.11.0\n",
            "  obj = getattr(results, attr)\n"
          ],
          "name": "stderr"
        }
      ]
    },
    {
      "cell_type": "code",
      "metadata": {
        "id": "pkMVANFWQ-PM"
      },
      "source": [
        "pickle.dump(model_fit, open('model_VAR.pkl', 'wb'))"
      ],
      "execution_count": null,
      "outputs": []
    },
    {
      "cell_type": "code",
      "metadata": {
        "colab": {
          "base_uri": "https://localhost:8080/"
        },
        "id": "U4E5tgVXX1ec",
        "outputId": "2a331ee1-2870-4094-8663-0b375db078f9"
      },
      "source": [
        "print('Next Year Consumption is: ', yhat[2, [2]])"
      ],
      "execution_count": null,
      "outputs": [
        {
          "output_type": "stream",
          "text": [
            "Next Year Consumption is:  [118.51937066]\n"
          ],
          "name": "stdout"
        }
      ]
    },
    {
      "cell_type": "markdown",
      "metadata": {
        "id": "NO4zvI7RMfGW"
      },
      "source": [
        "# Flask API deployment"
      ]
    },
    {
      "cell_type": "code",
      "metadata": {
        "id": "LGDlTQRgMeVK",
        "colab": {
          "base_uri": "https://localhost:8080/"
        },
        "outputId": "a2b23487-5a77-4939-d1f0-da3144c32803"
      },
      "source": [
        "#install flask-ngrok library\r\n",
        "!pip install flask-ngrok"
      ],
      "execution_count": null,
      "outputs": [
        {
          "output_type": "stream",
          "text": [
            "Collecting flask-ngrok\n",
            "  Downloading https://files.pythonhosted.org/packages/af/6c/f54cb686ad1129e27d125d182f90f52b32f284e6c8df58c1bae54fa1adbc/flask_ngrok-0.0.25-py3-none-any.whl\n",
            "Requirement already satisfied: requests in /usr/local/lib/python3.6/dist-packages (from flask-ngrok) (2.23.0)\n",
            "Requirement already satisfied: Flask>=0.8 in /usr/local/lib/python3.6/dist-packages (from flask-ngrok) (1.1.2)\n",
            "Requirement already satisfied: idna<3,>=2.5 in /usr/local/lib/python3.6/dist-packages (from requests->flask-ngrok) (2.10)\n",
            "Requirement already satisfied: chardet<4,>=3.0.2 in /usr/local/lib/python3.6/dist-packages (from requests->flask-ngrok) (3.0.4)\n",
            "Requirement already satisfied: urllib3!=1.25.0,!=1.25.1,<1.26,>=1.21.1 in /usr/local/lib/python3.6/dist-packages (from requests->flask-ngrok) (1.24.3)\n",
            "Requirement already satisfied: certifi>=2017.4.17 in /usr/local/lib/python3.6/dist-packages (from requests->flask-ngrok) (2020.12.5)\n",
            "Requirement already satisfied: Jinja2>=2.10.1 in /usr/local/lib/python3.6/dist-packages (from Flask>=0.8->flask-ngrok) (2.11.3)\n",
            "Requirement already satisfied: click>=5.1 in /usr/local/lib/python3.6/dist-packages (from Flask>=0.8->flask-ngrok) (7.1.2)\n",
            "Requirement already satisfied: Werkzeug>=0.15 in /usr/local/lib/python3.6/dist-packages (from Flask>=0.8->flask-ngrok) (1.0.1)\n",
            "Requirement already satisfied: itsdangerous>=0.24 in /usr/local/lib/python3.6/dist-packages (from Flask>=0.8->flask-ngrok) (1.1.0)\n",
            "Requirement already satisfied: MarkupSafe>=0.23 in /usr/local/lib/python3.6/dist-packages (from Jinja2>=2.10.1->Flask>=0.8->flask-ngrok) (1.1.1)\n",
            "Installing collected packages: flask-ngrok\n",
            "Successfully installed flask-ngrok-0.0.25\n"
          ],
          "name": "stdout"
        }
      ]
    },
    {
      "cell_type": "code",
      "metadata": {
        "colab": {
          "base_uri": "https://localhost:8080/"
        },
        "id": "PPjQ82iKKzTb",
        "outputId": "12bbc256-df3e-4ca5-e5cf-99a273dee0cf"
      },
      "source": [
        "from google.colab import drive\n",
        "drive.mount('/content/drive')"
      ],
      "execution_count": null,
      "outputs": [
        {
          "output_type": "stream",
          "text": [
            "Mounted at /content/drive\n"
          ],
          "name": "stdout"
        }
      ]
    },
    {
      "cell_type": "code",
      "metadata": {
        "id": "eFEJ-b12bmKr",
        "colab": {
          "base_uri": "https://localhost:8080/"
        },
        "outputId": "a0d1ad99-4cc1-43a9-d5d2-c7be2e36356e"
      },
      "source": [
        "from flask_ngrok import run_with_ngrok\r\n",
        "from flask import Flask, request, jsonify, render_template\r\n",
        "import numpy as np\r\n",
        "import pickle\r\n",
        "\r\n",
        "app = Flask(__name__, template_folder='/content/drive/MyDrive/static/templates')\r\n",
        "run_with_ngrok(app)   #starts ngrok when the app is run\r\n",
        "\r\n",
        "model = pickle.load(open('/content/drive/MyDrive/static/templates/model_VAR.pkl', 'rb'))\r\n",
        "\r\n",
        "@app.route('/')\r\n",
        "def home():\r\n",
        "    return render_template('index.html')\r\n",
        "\r\n",
        "@app.route('/predict',methods=['POST'])\r\n",
        "def predict():\r\n",
        "    '''\r\n",
        "    For rendering results on HTML GUI\r\n",
        "    '''\r\n",
        "    int_features = [int(x) for x in request.form.values()]\r\n",
        "    final_features = np.array(int_features)\r\n",
        "    #prediction = model.predict(final_features)\r\n",
        "\r\n",
        "    print(type(final_features))\r\n",
        "    prediction = model_fit.forecast(model_fit.y, steps=final_features[0])\r\n",
        "    \r\n",
        "    output = prediction[:, [2]]\r\n",
        "\r\n",
        "    return render_template('index.html', prediction_text='Consumption should be {}'.format(output))\r\n",
        "\r\n",
        "app.run()"
      ],
      "execution_count": null,
      "outputs": [
        {
          "output_type": "stream",
          "text": [
            " * Serving Flask app \"__main__\" (lazy loading)\n",
            " * Environment: production\n",
            "\u001b[31m   WARNING: This is a development server. Do not use it in a production deployment.\u001b[0m\n",
            "\u001b[2m   Use a production WSGI server instead.\u001b[0m\n",
            " * Debug mode: off\n"
          ],
          "name": "stdout"
        },
        {
          "output_type": "stream",
          "text": [
            " * Running on http://127.0.0.1:5000/ (Press CTRL+C to quit)\n"
          ],
          "name": "stderr"
        },
        {
          "output_type": "stream",
          "text": [
            " * Running on http://6e6cf3c98264.ngrok.io\n",
            " * Traffic stats available on http://127.0.0.1:4040\n"
          ],
          "name": "stdout"
        },
        {
          "output_type": "stream",
          "text": [
            "127.0.0.1 - - [09/Feb/2021 05:52:29] \"\u001b[37mGET / HTTP/1.1\u001b[0m\" 200 -\n",
            "127.0.0.1 - - [09/Feb/2021 05:52:29] \"\u001b[33mGET /favicon.ico HTTP/1.1\u001b[0m\" 404 -\n",
            "/usr/local/lib/python3.6/dist-packages/statsmodels/base/wrapper.py:35: FutureWarning: y is a deprecated alias for endog, will be removed in version 0.11.0\n",
            "  obj = getattr(results, attr)\n",
            "127.0.0.1 - - [09/Feb/2021 05:52:33] \"\u001b[37mPOST /predict HTTP/1.1\u001b[0m\" 200 -\n"
          ],
          "name": "stderr"
        },
        {
          "output_type": "stream",
          "text": [
            "<class 'numpy.ndarray'>\n"
          ],
          "name": "stdout"
        },
        {
          "output_type": "stream",
          "text": [
            "127.0.0.1 - - [09/Feb/2021 05:52:40] \"\u001b[37mPOST /predict HTTP/1.1\u001b[0m\" 200 -\n"
          ],
          "name": "stderr"
        },
        {
          "output_type": "stream",
          "text": [
            "<class 'numpy.ndarray'>\n"
          ],
          "name": "stdout"
        },
        {
          "output_type": "stream",
          "text": [
            "127.0.0.1 - - [09/Feb/2021 05:52:49] \"\u001b[37mPOST /predict HTTP/1.1\u001b[0m\" 200 -\n"
          ],
          "name": "stderr"
        },
        {
          "output_type": "stream",
          "text": [
            "<class 'numpy.ndarray'>\n"
          ],
          "name": "stdout"
        }
      ]
    }
  ]
}